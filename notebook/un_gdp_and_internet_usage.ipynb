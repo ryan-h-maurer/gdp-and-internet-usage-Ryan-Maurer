{
 "cells": [
  {
   "cell_type": "markdown",
   "id": "f9c51dca",
   "metadata": {},
   "source": [
    "Import the required packages with their customary aliases as follows:\n",
    "\n",
    "import pandas as pd\n",
    "import numpy as np\n",
    "import matplotlib.pyplot as plt\n",
    "import seaborn as sns"
   ]
  },
  {
   "cell_type": "code",
   "execution_count": 1,
   "id": "705e22f2",
   "metadata": {},
   "outputs": [],
   "source": [
    "import pandas as pd\n",
    "import numpy as np\n",
    "import matplotlib.pyplot as plt\n",
    "import seaborn as sns"
   ]
  },
  {
   "cell_type": "code",
   "execution_count": 2,
   "id": "35b94b34",
   "metadata": {},
   "outputs": [],
   "source": [
    "sns.set(style='darkgrid',color_codes=True)"
   ]
  },
  {
   "cell_type": "markdown",
   "id": "0fa53032",
   "metadata": {},
   "source": [
    "Use the %matplotlib inline magic command so that your plots show in the notebook without having to call plt.show() every time."
   ]
  },
  {
   "cell_type": "code",
   "execution_count": 3,
   "id": "de650fbd",
   "metadata": {},
   "outputs": [],
   "source": [
    "%matplotlib inline"
   ]
  },
  {
   "cell_type": "markdown",
   "id": "a8c3b8b7",
   "metadata": {},
   "source": [
    "Using the pandas read_csv() method, read the GDP dataset into your notebook as a DataFrame called gdp_df.\n",
    "\n",
    "Take a look at the first 6 rows."
   ]
  },
  {
   "cell_type": "code",
   "execution_count": 4,
   "id": "a25aff45",
   "metadata": {},
   "outputs": [
    {
     "data": {
      "text/html": [
       "<div>\n",
       "<style scoped>\n",
       "    .dataframe tbody tr th:only-of-type {\n",
       "        vertical-align: middle;\n",
       "    }\n",
       "\n",
       "    .dataframe tbody tr th {\n",
       "        vertical-align: top;\n",
       "    }\n",
       "\n",
       "    .dataframe thead th {\n",
       "        text-align: right;\n",
       "    }\n",
       "</style>\n",
       "<table border=\"1\" class=\"dataframe\">\n",
       "  <thead>\n",
       "    <tr style=\"text-align: right;\">\n",
       "      <th></th>\n",
       "      <th>Country or Area</th>\n",
       "      <th>Year</th>\n",
       "      <th>Value</th>\n",
       "      <th>Value Footnotes</th>\n",
       "    </tr>\n",
       "  </thead>\n",
       "  <tbody>\n",
       "    <tr>\n",
       "      <th>0</th>\n",
       "      <td>Afghanistan</td>\n",
       "      <td>2019</td>\n",
       "      <td>2065.036398</td>\n",
       "      <td>NaN</td>\n",
       "    </tr>\n",
       "    <tr>\n",
       "      <th>1</th>\n",
       "      <td>Afghanistan</td>\n",
       "      <td>2018</td>\n",
       "      <td>2033.779002</td>\n",
       "      <td>NaN</td>\n",
       "    </tr>\n",
       "    <tr>\n",
       "      <th>2</th>\n",
       "      <td>Afghanistan</td>\n",
       "      <td>2017</td>\n",
       "      <td>2058.383832</td>\n",
       "      <td>NaN</td>\n",
       "    </tr>\n",
       "    <tr>\n",
       "      <th>3</th>\n",
       "      <td>Afghanistan</td>\n",
       "      <td>2016</td>\n",
       "      <td>2057.062164</td>\n",
       "      <td>NaN</td>\n",
       "    </tr>\n",
       "    <tr>\n",
       "      <th>4</th>\n",
       "      <td>Afghanistan</td>\n",
       "      <td>2015</td>\n",
       "      <td>2068.265904</td>\n",
       "      <td>NaN</td>\n",
       "    </tr>\n",
       "    <tr>\n",
       "      <th>5</th>\n",
       "      <td>Afghanistan</td>\n",
       "      <td>2014</td>\n",
       "      <td>2102.385234</td>\n",
       "      <td>NaN</td>\n",
       "    </tr>\n",
       "  </tbody>\n",
       "</table>\n",
       "</div>"
      ],
      "text/plain": [
       "  Country or Area  Year        Value  Value Footnotes\n",
       "0     Afghanistan  2019  2065.036398              NaN\n",
       "1     Afghanistan  2018  2033.779002              NaN\n",
       "2     Afghanistan  2017  2058.383832              NaN\n",
       "3     Afghanistan  2016  2057.062164              NaN\n",
       "4     Afghanistan  2015  2068.265904              NaN\n",
       "5     Afghanistan  2014  2102.385234              NaN"
      ]
     },
     "execution_count": 4,
     "metadata": {},
     "output_type": "execute_result"
    }
   ],
   "source": [
    "gdp_df = pd.read_csv('../data/gdp_percapita.csv',nrows=6868)\n",
    "gdp_df.head(6)"
   ]
  },
  {
   "cell_type": "markdown",
   "id": "9fc2bb63",
   "metadata": {},
   "source": [
    "Repeat for the internet use dataset. Call this DataFrame internet_df. Take a look at the first six rows."
   ]
  },
  {
   "cell_type": "code",
   "execution_count": 5,
   "id": "880b3d0b",
   "metadata": {},
   "outputs": [
    {
     "data": {
      "text/html": [
       "<div>\n",
       "<style scoped>\n",
       "    .dataframe tbody tr th:only-of-type {\n",
       "        vertical-align: middle;\n",
       "    }\n",
       "\n",
       "    .dataframe tbody tr th {\n",
       "        vertical-align: top;\n",
       "    }\n",
       "\n",
       "    .dataframe thead th {\n",
       "        text-align: right;\n",
       "    }\n",
       "</style>\n",
       "<table border=\"1\" class=\"dataframe\">\n",
       "  <thead>\n",
       "    <tr style=\"text-align: right;\">\n",
       "      <th></th>\n",
       "      <th>Country or Area</th>\n",
       "      <th>Year</th>\n",
       "      <th>Value</th>\n",
       "      <th>Value Footnotes</th>\n",
       "    </tr>\n",
       "  </thead>\n",
       "  <tbody>\n",
       "    <tr>\n",
       "      <th>0</th>\n",
       "      <td>Afghanistan</td>\n",
       "      <td>2014</td>\n",
       "      <td>6.390000</td>\n",
       "      <td>NaN</td>\n",
       "    </tr>\n",
       "    <tr>\n",
       "      <th>1</th>\n",
       "      <td>Afghanistan</td>\n",
       "      <td>2013</td>\n",
       "      <td>5.900000</td>\n",
       "      <td>NaN</td>\n",
       "    </tr>\n",
       "    <tr>\n",
       "      <th>2</th>\n",
       "      <td>Afghanistan</td>\n",
       "      <td>2012</td>\n",
       "      <td>5.454545</td>\n",
       "      <td>NaN</td>\n",
       "    </tr>\n",
       "    <tr>\n",
       "      <th>3</th>\n",
       "      <td>Afghanistan</td>\n",
       "      <td>2011</td>\n",
       "      <td>5.000000</td>\n",
       "      <td>NaN</td>\n",
       "    </tr>\n",
       "    <tr>\n",
       "      <th>4</th>\n",
       "      <td>Afghanistan</td>\n",
       "      <td>2010</td>\n",
       "      <td>4.000000</td>\n",
       "      <td>NaN</td>\n",
       "    </tr>\n",
       "    <tr>\n",
       "      <th>5</th>\n",
       "      <td>Afghanistan</td>\n",
       "      <td>2009</td>\n",
       "      <td>3.550000</td>\n",
       "      <td>NaN</td>\n",
       "    </tr>\n",
       "  </tbody>\n",
       "</table>\n",
       "</div>"
      ],
      "text/plain": [
       "  Country or Area  Year     Value  Value Footnotes\n",
       "0     Afghanistan  2014  6.390000              NaN\n",
       "1     Afghanistan  2013  5.900000              NaN\n",
       "2     Afghanistan  2012  5.454545              NaN\n",
       "3     Afghanistan  2011  5.000000              NaN\n",
       "4     Afghanistan  2010  4.000000              NaN\n",
       "5     Afghanistan  2009  3.550000              NaN"
      ]
     },
     "execution_count": 5,
     "metadata": {},
     "output_type": "execute_result"
    }
   ],
   "source": [
    "internet_df = pd.read_csv('../data/internet_use.csv',nrows=4495)\n",
    "internet_df.head(6)"
   ]
  },
  {
   "cell_type": "markdown",
   "id": "d71241ab",
   "metadata": {},
   "source": [
    "7.Look at the shape of each DataFrame - how many rows? How many columns?"
   ]
  },
  {
   "cell_type": "code",
   "execution_count": 6,
   "id": "e82662e3",
   "metadata": {},
   "outputs": [
    {
     "name": "stdout",
     "output_type": "stream",
     "text": [
      "<class 'pandas.core.frame.DataFrame'>\n",
      "RangeIndex: 4495 entries, 0 to 4494\n",
      "Data columns (total 4 columns):\n",
      " #   Column           Non-Null Count  Dtype  \n",
      "---  ------           --------------  -----  \n",
      " 0   Country or Area  4495 non-null   object \n",
      " 1   Year             4495 non-null   int64  \n",
      " 2   Value            4495 non-null   float64\n",
      " 3   Value Footnotes  948 non-null    float64\n",
      "dtypes: float64(2), int64(1), object(1)\n",
      "memory usage: 140.6+ KB\n",
      "<class 'pandas.core.frame.DataFrame'>\n",
      "RangeIndex: 6868 entries, 0 to 6867\n",
      "Data columns (total 4 columns):\n",
      " #   Column           Non-Null Count  Dtype  \n",
      "---  ------           --------------  -----  \n",
      " 0   Country or Area  6868 non-null   object \n",
      " 1   Year             6868 non-null   int64  \n",
      " 2   Value            6868 non-null   float64\n",
      " 3   Value Footnotes  1 non-null      float64\n",
      "dtypes: float64(2), int64(1), object(1)\n",
      "memory usage: 214.8+ KB\n"
     ]
    }
   ],
   "source": [
    "internet_df.info()\n",
    "gdp_df.info()"
   ]
  },
  {
   "cell_type": "markdown",
   "id": "c77000f9",
   "metadata": {},
   "source": [
    "8.Take a look at the datatypes for the columns in each DataFrame."
   ]
  },
  {
   "cell_type": "code",
   "execution_count": 7,
   "id": "6791aa66",
   "metadata": {},
   "outputs": [
    {
     "name": "stdout",
     "output_type": "stream",
     "text": [
      "<class 'pandas.core.frame.DataFrame'>\n",
      "RangeIndex: 4495 entries, 0 to 4494\n",
      "Data columns (total 4 columns):\n",
      " #   Column           Non-Null Count  Dtype  \n",
      "---  ------           --------------  -----  \n",
      " 0   Country or Area  4495 non-null   object \n",
      " 1   Year             4495 non-null   int64  \n",
      " 2   Value            4495 non-null   float64\n",
      " 3   Value Footnotes  948 non-null    float64\n",
      "dtypes: float64(2), int64(1), object(1)\n",
      "memory usage: 140.6+ KB\n",
      "<class 'pandas.core.frame.DataFrame'>\n",
      "RangeIndex: 6868 entries, 0 to 6867\n",
      "Data columns (total 4 columns):\n",
      " #   Column           Non-Null Count  Dtype  \n",
      "---  ------           --------------  -----  \n",
      " 0   Country or Area  6868 non-null   object \n",
      " 1   Year             6868 non-null   int64  \n",
      " 2   Value            6868 non-null   float64\n",
      " 3   Value Footnotes  1 non-null      float64\n",
      "dtypes: float64(2), int64(1), object(1)\n",
      "memory usage: 214.8+ KB\n"
     ]
    }
   ],
   "source": [
    "internet_df.info()\n",
    "gdp_df.info()"
   ]
  },
  {
   "cell_type": "markdown",
   "id": "a9093ed0",
   "metadata": {},
   "source": [
    "9.Take a look at the last 10 rows of each DataFrame in turn."
   ]
  },
  {
   "cell_type": "code",
   "execution_count": 8,
   "id": "94340989",
   "metadata": {},
   "outputs": [
    {
     "data": {
      "text/html": [
       "<div>\n",
       "<style scoped>\n",
       "    .dataframe tbody tr th:only-of-type {\n",
       "        vertical-align: middle;\n",
       "    }\n",
       "\n",
       "    .dataframe tbody tr th {\n",
       "        vertical-align: top;\n",
       "    }\n",
       "\n",
       "    .dataframe thead th {\n",
       "        text-align: right;\n",
       "    }\n",
       "</style>\n",
       "<table border=\"1\" class=\"dataframe\">\n",
       "  <thead>\n",
       "    <tr style=\"text-align: right;\">\n",
       "      <th></th>\n",
       "      <th>Country or Area</th>\n",
       "      <th>Year</th>\n",
       "      <th>Value</th>\n",
       "      <th>Value Footnotes</th>\n",
       "    </tr>\n",
       "  </thead>\n",
       "  <tbody>\n",
       "    <tr>\n",
       "      <th>4485</th>\n",
       "      <td>Zimbabwe</td>\n",
       "      <td>2002</td>\n",
       "      <td>3.994356</td>\n",
       "      <td>NaN</td>\n",
       "    </tr>\n",
       "    <tr>\n",
       "      <th>4486</th>\n",
       "      <td>Zimbabwe</td>\n",
       "      <td>2001</td>\n",
       "      <td>0.799846</td>\n",
       "      <td>NaN</td>\n",
       "    </tr>\n",
       "    <tr>\n",
       "      <th>4487</th>\n",
       "      <td>Zimbabwe</td>\n",
       "      <td>2000</td>\n",
       "      <td>0.401434</td>\n",
       "      <td>NaN</td>\n",
       "    </tr>\n",
       "    <tr>\n",
       "      <th>4488</th>\n",
       "      <td>Zimbabwe</td>\n",
       "      <td>1999</td>\n",
       "      <td>0.161676</td>\n",
       "      <td>NaN</td>\n",
       "    </tr>\n",
       "    <tr>\n",
       "      <th>4489</th>\n",
       "      <td>Zimbabwe</td>\n",
       "      <td>1998</td>\n",
       "      <td>0.081648</td>\n",
       "      <td>NaN</td>\n",
       "    </tr>\n",
       "    <tr>\n",
       "      <th>4490</th>\n",
       "      <td>Zimbabwe</td>\n",
       "      <td>1997</td>\n",
       "      <td>0.033080</td>\n",
       "      <td>NaN</td>\n",
       "    </tr>\n",
       "    <tr>\n",
       "      <th>4491</th>\n",
       "      <td>Zimbabwe</td>\n",
       "      <td>1996</td>\n",
       "      <td>0.016790</td>\n",
       "      <td>NaN</td>\n",
       "    </tr>\n",
       "    <tr>\n",
       "      <th>4492</th>\n",
       "      <td>Zimbabwe</td>\n",
       "      <td>1995</td>\n",
       "      <td>0.007684</td>\n",
       "      <td>NaN</td>\n",
       "    </tr>\n",
       "    <tr>\n",
       "      <th>4493</th>\n",
       "      <td>Zimbabwe</td>\n",
       "      <td>1994</td>\n",
       "      <td>0.001739</td>\n",
       "      <td>NaN</td>\n",
       "    </tr>\n",
       "    <tr>\n",
       "      <th>4494</th>\n",
       "      <td>Zimbabwe</td>\n",
       "      <td>1990</td>\n",
       "      <td>0.000000</td>\n",
       "      <td>NaN</td>\n",
       "    </tr>\n",
       "  </tbody>\n",
       "</table>\n",
       "</div>"
      ],
      "text/plain": [
       "     Country or Area  Year     Value  Value Footnotes\n",
       "4485        Zimbabwe  2002  3.994356              NaN\n",
       "4486        Zimbabwe  2001  0.799846              NaN\n",
       "4487        Zimbabwe  2000  0.401434              NaN\n",
       "4488        Zimbabwe  1999  0.161676              NaN\n",
       "4489        Zimbabwe  1998  0.081648              NaN\n",
       "4490        Zimbabwe  1997  0.033080              NaN\n",
       "4491        Zimbabwe  1996  0.016790              NaN\n",
       "4492        Zimbabwe  1995  0.007684              NaN\n",
       "4493        Zimbabwe  1994  0.001739              NaN\n",
       "4494        Zimbabwe  1990  0.000000              NaN"
      ]
     },
     "execution_count": 8,
     "metadata": {},
     "output_type": "execute_result"
    }
   ],
   "source": [
    "internet_df.tail(10)"
   ]
  },
  {
   "cell_type": "code",
   "execution_count": 9,
   "id": "470d4312",
   "metadata": {},
   "outputs": [
    {
     "data": {
      "text/html": [
       "<div>\n",
       "<style scoped>\n",
       "    .dataframe tbody tr th:only-of-type {\n",
       "        vertical-align: middle;\n",
       "    }\n",
       "\n",
       "    .dataframe tbody tr th {\n",
       "        vertical-align: top;\n",
       "    }\n",
       "\n",
       "    .dataframe thead th {\n",
       "        text-align: right;\n",
       "    }\n",
       "</style>\n",
       "<table border=\"1\" class=\"dataframe\">\n",
       "  <thead>\n",
       "    <tr style=\"text-align: right;\">\n",
       "      <th></th>\n",
       "      <th>Country or Area</th>\n",
       "      <th>Year</th>\n",
       "      <th>Value</th>\n",
       "      <th>Value Footnotes</th>\n",
       "    </tr>\n",
       "  </thead>\n",
       "  <tbody>\n",
       "    <tr>\n",
       "      <th>6858</th>\n",
       "      <td>Zimbabwe</td>\n",
       "      <td>1999</td>\n",
       "      <td>3600.849291</td>\n",
       "      <td>NaN</td>\n",
       "    </tr>\n",
       "    <tr>\n",
       "      <th>6859</th>\n",
       "      <td>Zimbabwe</td>\n",
       "      <td>1998</td>\n",
       "      <td>3653.920016</td>\n",
       "      <td>NaN</td>\n",
       "    </tr>\n",
       "    <tr>\n",
       "      <th>6860</th>\n",
       "      <td>Zimbabwe</td>\n",
       "      <td>1997</td>\n",
       "      <td>3580.048793</td>\n",
       "      <td>NaN</td>\n",
       "    </tr>\n",
       "    <tr>\n",
       "      <th>6861</th>\n",
       "      <td>Zimbabwe</td>\n",
       "      <td>1996</td>\n",
       "      <td>3520.430146</td>\n",
       "      <td>NaN</td>\n",
       "    </tr>\n",
       "    <tr>\n",
       "      <th>6862</th>\n",
       "      <td>Zimbabwe</td>\n",
       "      <td>1995</td>\n",
       "      <td>3226.413930</td>\n",
       "      <td>NaN</td>\n",
       "    </tr>\n",
       "    <tr>\n",
       "      <th>6863</th>\n",
       "      <td>Zimbabwe</td>\n",
       "      <td>1994</td>\n",
       "      <td>3263.934978</td>\n",
       "      <td>NaN</td>\n",
       "    </tr>\n",
       "    <tr>\n",
       "      <th>6864</th>\n",
       "      <td>Zimbabwe</td>\n",
       "      <td>1993</td>\n",
       "      <td>3033.504852</td>\n",
       "      <td>NaN</td>\n",
       "    </tr>\n",
       "    <tr>\n",
       "      <th>6865</th>\n",
       "      <td>Zimbabwe</td>\n",
       "      <td>1992</td>\n",
       "      <td>3054.889178</td>\n",
       "      <td>NaN</td>\n",
       "    </tr>\n",
       "    <tr>\n",
       "      <th>6866</th>\n",
       "      <td>Zimbabwe</td>\n",
       "      <td>1991</td>\n",
       "      <td>3426.598094</td>\n",
       "      <td>NaN</td>\n",
       "    </tr>\n",
       "    <tr>\n",
       "      <th>6867</th>\n",
       "      <td>Zimbabwe</td>\n",
       "      <td>1990</td>\n",
       "      <td>3324.348171</td>\n",
       "      <td>NaN</td>\n",
       "    </tr>\n",
       "  </tbody>\n",
       "</table>\n",
       "</div>"
      ],
      "text/plain": [
       "     Country or Area  Year        Value  Value Footnotes\n",
       "6858        Zimbabwe  1999  3600.849291              NaN\n",
       "6859        Zimbabwe  1998  3653.920016              NaN\n",
       "6860        Zimbabwe  1997  3580.048793              NaN\n",
       "6861        Zimbabwe  1996  3520.430146              NaN\n",
       "6862        Zimbabwe  1995  3226.413930              NaN\n",
       "6863        Zimbabwe  1994  3263.934978              NaN\n",
       "6864        Zimbabwe  1993  3033.504852              NaN\n",
       "6865        Zimbabwe  1992  3054.889178              NaN\n",
       "6866        Zimbabwe  1991  3426.598094              NaN\n",
       "6867        Zimbabwe  1990  3324.348171              NaN"
      ]
     },
     "execution_count": 9,
     "metadata": {},
     "output_type": "execute_result"
    }
   ],
   "source": [
    "gdp_df.tail(10)"
   ]
  },
  {
   "cell_type": "markdown",
   "id": "a037279e",
   "metadata": {},
   "source": [
    "10.Drop the value footnotes column from both DataFrames. Check that this worked as expected."
   ]
  },
  {
   "cell_type": "code",
   "execution_count": 10,
   "id": "e9889ee1",
   "metadata": {},
   "outputs": [
    {
     "name": "stdout",
     "output_type": "stream",
     "text": [
      "  Country or Area  Year  Value\n",
      "0     Afghanistan  2014   6.39\n",
      "  Country or Area  Year        Value\n",
      "0     Afghanistan  2019  2065.036398\n"
     ]
    }
   ],
   "source": [
    "gdp_df=gdp_df.drop(columns =['Value Footnotes'])\n",
    "internet_df=internet_df.drop(columns=['Value Footnotes'])\n",
    "print(internet_df.head(1))\n",
    "print(gdp_df.head(1))"
   ]
  },
  {
   "cell_type": "markdown",
   "id": "a454a538",
   "metadata": {},
   "source": [
    "11.Change the columns for the GDP Per Capita DataFrame to ‘Country’, ‘Year’, and ‘GDP_Per_Capita’."
   ]
  },
  {
   "cell_type": "code",
   "execution_count": 11,
   "id": "635d3da0",
   "metadata": {},
   "outputs": [
    {
     "name": "stdout",
     "output_type": "stream",
     "text": [
      "       Country  Year  GDP_Per_Capita\n",
      "0  Afghanistan  2019     2065.036398\n",
      "1  Afghanistan  2018     2033.779002\n",
      "2  Afghanistan  2017     2058.383832\n",
      "3  Afghanistan  2016     2057.062164\n",
      "4  Afghanistan  2015     2068.265904\n"
     ]
    }
   ],
   "source": [
    "gdp_df_re = gdp_df.rename(columns ={'Country or Area':'Country','Value':'GDP_Per_Capita'})\n",
    "print(gdp_df_re.head())  "
   ]
  },
  {
   "cell_type": "markdown",
   "id": "0fdfbc5c",
   "metadata": {},
   "source": [
    "12.Change the columns for the Internet Users DataFrame to ‘Country’, ‘Year’, and ‘Internet_Users_Pct’."
   ]
  },
  {
   "cell_type": "code",
   "execution_count": 12,
   "id": "917e4511",
   "metadata": {},
   "outputs": [
    {
     "name": "stdout",
     "output_type": "stream",
     "text": [
      "       Country  Year  Internet_Users_Pct\n",
      "4490  Zimbabwe  1997            0.033080\n",
      "4491  Zimbabwe  1996            0.016790\n",
      "4492  Zimbabwe  1995            0.007684\n",
      "4493  Zimbabwe  1994            0.001739\n",
      "4494  Zimbabwe  1990            0.000000\n"
     ]
    }
   ],
   "source": [
    "internet_df_re = internet_df.rename(columns = {'Country or Area':'Country','Value':'Internet_Users_Pct'})\n",
    "print(internet_df_re.tail())"
   ]
  },
  {
   "cell_type": "markdown",
   "id": "d3e23b50",
   "metadata": {},
   "source": [
    "13.Merge the two DataFrames to one. Merge all rows from each of the two DataFrames. Call the new DataFrame gdp_and_internet_use."
   ]
  },
  {
   "cell_type": "code",
   "execution_count": 13,
   "id": "64dc21cd",
   "metadata": {},
   "outputs": [],
   "source": [
    "gdp_and_internet_use = gdp_df_re.merge(internet_df_re,'outer',['Country','Year'])\n"
   ]
  },
  {
   "cell_type": "code",
   "execution_count": 14,
   "id": "bf1a2630",
   "metadata": {},
   "outputs": [
    {
     "data": {
      "text/html": [
       "<div>\n",
       "<style scoped>\n",
       "    .dataframe tbody tr th:only-of-type {\n",
       "        vertical-align: middle;\n",
       "    }\n",
       "\n",
       "    .dataframe tbody tr th {\n",
       "        vertical-align: top;\n",
       "    }\n",
       "\n",
       "    .dataframe thead th {\n",
       "        text-align: right;\n",
       "    }\n",
       "</style>\n",
       "<table border=\"1\" class=\"dataframe\">\n",
       "  <thead>\n",
       "    <tr style=\"text-align: right;\">\n",
       "      <th></th>\n",
       "      <th>Country</th>\n",
       "      <th>Year</th>\n",
       "      <th>GDP_Per_Capita</th>\n",
       "      <th>Internet_Users_Pct</th>\n",
       "    </tr>\n",
       "  </thead>\n",
       "  <tbody>\n",
       "    <tr>\n",
       "      <th>0</th>\n",
       "      <td>Afghanistan</td>\n",
       "      <td>2019</td>\n",
       "      <td>2065.036398</td>\n",
       "      <td>NaN</td>\n",
       "    </tr>\n",
       "    <tr>\n",
       "      <th>1</th>\n",
       "      <td>Afghanistan</td>\n",
       "      <td>2018</td>\n",
       "      <td>2033.779002</td>\n",
       "      <td>NaN</td>\n",
       "    </tr>\n",
       "    <tr>\n",
       "      <th>2</th>\n",
       "      <td>Afghanistan</td>\n",
       "      <td>2017</td>\n",
       "      <td>2058.383832</td>\n",
       "      <td>NaN</td>\n",
       "    </tr>\n",
       "    <tr>\n",
       "      <th>3</th>\n",
       "      <td>Afghanistan</td>\n",
       "      <td>2016</td>\n",
       "      <td>2057.062164</td>\n",
       "      <td>NaN</td>\n",
       "    </tr>\n",
       "    <tr>\n",
       "      <th>4</th>\n",
       "      <td>Afghanistan</td>\n",
       "      <td>2015</td>\n",
       "      <td>2068.265904</td>\n",
       "      <td>NaN</td>\n",
       "    </tr>\n",
       "    <tr>\n",
       "      <th>...</th>\n",
       "      <td>...</td>\n",
       "      <td>...</td>\n",
       "      <td>...</td>\n",
       "      <td>...</td>\n",
       "    </tr>\n",
       "    <tr>\n",
       "      <th>7900</th>\n",
       "      <td>Yemen</td>\n",
       "      <td>1999</td>\n",
       "      <td>NaN</td>\n",
       "      <td>0.056629</td>\n",
       "    </tr>\n",
       "    <tr>\n",
       "      <th>7901</th>\n",
       "      <td>Yemen</td>\n",
       "      <td>1998</td>\n",
       "      <td>NaN</td>\n",
       "      <td>0.023323</td>\n",
       "    </tr>\n",
       "    <tr>\n",
       "      <th>7902</th>\n",
       "      <td>Yemen</td>\n",
       "      <td>1997</td>\n",
       "      <td>NaN</td>\n",
       "      <td>0.015025</td>\n",
       "    </tr>\n",
       "    <tr>\n",
       "      <th>7903</th>\n",
       "      <td>Yemen</td>\n",
       "      <td>1996</td>\n",
       "      <td>NaN</td>\n",
       "      <td>0.000621</td>\n",
       "    </tr>\n",
       "    <tr>\n",
       "      <th>7904</th>\n",
       "      <td>Yemen</td>\n",
       "      <td>1990</td>\n",
       "      <td>NaN</td>\n",
       "      <td>0.000000</td>\n",
       "    </tr>\n",
       "  </tbody>\n",
       "</table>\n",
       "<p>7905 rows × 4 columns</p>\n",
       "</div>"
      ],
      "text/plain": [
       "          Country  Year  GDP_Per_Capita  Internet_Users_Pct\n",
       "0     Afghanistan  2019     2065.036398                 NaN\n",
       "1     Afghanistan  2018     2033.779002                 NaN\n",
       "2     Afghanistan  2017     2058.383832                 NaN\n",
       "3     Afghanistan  2016     2057.062164                 NaN\n",
       "4     Afghanistan  2015     2068.265904                 NaN\n",
       "...           ...   ...             ...                 ...\n",
       "7900        Yemen  1999             NaN            0.056629\n",
       "7901        Yemen  1998             NaN            0.023323\n",
       "7902        Yemen  1997             NaN            0.015025\n",
       "7903        Yemen  1996             NaN            0.000621\n",
       "7904        Yemen  1990             NaN            0.000000\n",
       "\n",
       "[7905 rows x 4 columns]"
      ]
     },
     "execution_count": 14,
     "metadata": {},
     "output_type": "execute_result"
    }
   ],
   "source": [
    "gdp_and_internet_use"
   ]
  },
  {
   "cell_type": "markdown",
   "id": "c4990bd6",
   "metadata": {},
   "source": [
    "14.Look at the first five rows of your new DataFrame to confirm it merged correctly."
   ]
  },
  {
   "cell_type": "code",
   "execution_count": 15,
   "id": "c49db603",
   "metadata": {},
   "outputs": [
    {
     "name": "stdout",
     "output_type": "stream",
     "text": [
      "       Country  Year  GDP_Per_Capita  Internet_Users_Pct\n",
      "0  Afghanistan  2019     2065.036398                 NaN\n",
      "1  Afghanistan  2018     2033.779002                 NaN\n",
      "2  Afghanistan  2017     2058.383832                 NaN\n",
      "3  Afghanistan  2016     2057.062164                 NaN\n",
      "4  Afghanistan  2015     2068.265904                 NaN\n"
     ]
    }
   ],
   "source": [
    "print(gdp_and_internet_use.head())"
   ]
  },
  {
   "cell_type": "markdown",
   "id": "6855c7cb",
   "metadata": {},
   "source": [
    "15.Look at the last five rows to make sure the data is clean and as expected."
   ]
  },
  {
   "cell_type": "code",
   "execution_count": 16,
   "id": "d3381a2f",
   "metadata": {},
   "outputs": [
    {
     "name": "stdout",
     "output_type": "stream",
     "text": [
      "     Country  Year  GDP_Per_Capita  Internet_Users_Pct\n",
      "7900   Yemen  1999             NaN            0.056629\n",
      "7901   Yemen  1998             NaN            0.023323\n",
      "7902   Yemen  1997             NaN            0.015025\n",
      "7903   Yemen  1996             NaN            0.000621\n",
      "7904   Yemen  1990             NaN            0.000000\n"
     ]
    }
   ],
   "source": [
    "print(gdp_and_internet_use.tail())"
   ]
  },
  {
   "cell_type": "markdown",
   "id": "447c3c49",
   "metadata": {},
   "source": [
    "16.Subset the combined DataFrame to keep only the data for 2004, 2009, and 2014. Check that this happened correctly."
   ]
  },
  {
   "cell_type": "code",
   "execution_count": 17,
   "id": "e9940508",
   "metadata": {},
   "outputs": [
    {
     "name": "stdout",
     "output_type": "stream",
     "text": [
      "        Country  Year  GDP_Per_Capita  Internet_Users_Pct\n",
      "5   Afghanistan  2014     2102.385234            6.390000\n",
      "10  Afghanistan  2009     1758.904043            3.550000\n",
      "15  Afghanistan  2004     1200.278256            0.105809\n",
      "23      Albania  2014    11623.866679           60.100000\n",
      "28      Albania  2009    10346.864199           41.200000\n"
     ]
    }
   ],
   "source": [
    "years = [2004,2009,2014]\n",
    "gdp_iu_sub = gdp_and_internet_use[gdp_and_internet_use.Year.isin(years)]\n",
    "print(gdp_iu_sub.head())"
   ]
  },
  {
   "cell_type": "markdown",
   "id": "fe7f2dd8",
   "metadata": {},
   "source": [
    "17.Create three new DataFrames, one for 2004, one for 2009, and one for 2014. Give them meaningful names that aren't too long."
   ]
  },
  {
   "cell_type": "code",
   "execution_count": 18,
   "id": "37c14113",
   "metadata": {},
   "outputs": [],
   "source": [
    "gdp_iu_2004 = gdp_and_internet_use[gdp_and_internet_use.Year == (2004)]\n",
    "gdp_iu_2009 = gdp_and_internet_use[gdp_and_internet_use.Year == (2009)]\n",
    "gdp_iu_2014 = gdp_and_internet_use[gdp_and_internet_use.Year == (2014)]"
   ]
  },
  {
   "cell_type": "markdown",
   "id": "698ebbe1",
   "metadata": {},
   "source": [
    "18.Which country had the highest percentage of internet users in 2014? What was the percentage?\n",
    "\n",
    "(Try typing the first 3 letters of your DataFrame name and hitting the tab key for auto-complete options)."
   ]
  },
  {
   "cell_type": "markdown",
   "id": "e817ec8a",
   "metadata": {},
   "source": [
    "Iceland(98.16%)"
   ]
  },
  {
   "cell_type": "code",
   "execution_count": 19,
   "id": "da7fceae",
   "metadata": {},
   "outputs": [
    {
     "name": "stdout",
     "output_type": "stream",
     "text": [
      "      Country  Year  GDP_Per_Capita  Internet_Users_Pct\n",
      "2625  Iceland  2014    49652.149500               98.16\n",
      "561   Bermuda  2014    77361.104881               96.80\n",
      "4648   Norway  2014    62589.373548               96.30\n",
      "1452  Denmark  2014    52214.537753               95.99\n",
      "6871  Andorra  2014             NaN               95.90\n"
     ]
    }
   ],
   "source": [
    "high_perc_iu_2014 = gdp_iu_2014.sort_values('Internet_Users_Pct',ascending = False)\n",
    "print(high_perc_iu_2014.head())"
   ]
  },
  {
   "cell_type": "code",
   "execution_count": 20,
   "id": "6d93ff77",
   "metadata": {},
   "outputs": [
    {
     "data": {
      "text/html": [
       "<div>\n",
       "<style scoped>\n",
       "    .dataframe tbody tr th:only-of-type {\n",
       "        vertical-align: middle;\n",
       "    }\n",
       "\n",
       "    .dataframe tbody tr th {\n",
       "        vertical-align: top;\n",
       "    }\n",
       "\n",
       "    .dataframe thead th {\n",
       "        text-align: right;\n",
       "    }\n",
       "</style>\n",
       "<table border=\"1\" class=\"dataframe\">\n",
       "  <thead>\n",
       "    <tr style=\"text-align: right;\">\n",
       "      <th></th>\n",
       "      <th>Country</th>\n",
       "      <th>Year</th>\n",
       "      <th>GDP_Per_Capita</th>\n",
       "      <th>Internet_Users_Pct</th>\n",
       "    </tr>\n",
       "  </thead>\n",
       "  <tbody>\n",
       "    <tr>\n",
       "      <th>2625</th>\n",
       "      <td>Iceland</td>\n",
       "      <td>2014</td>\n",
       "      <td>49652.1495</td>\n",
       "      <td>98.16</td>\n",
       "    </tr>\n",
       "  </tbody>\n",
       "</table>\n",
       "</div>"
      ],
      "text/plain": [
       "      Country  Year  GDP_Per_Capita  Internet_Users_Pct\n",
       "2625  Iceland  2014      49652.1495               98.16"
      ]
     },
     "execution_count": 20,
     "metadata": {},
     "output_type": "execute_result"
    }
   ],
   "source": [
    "high_perc_iu_2014.nlargest(1, 'Internet_Users_Pct')\n"
   ]
  },
  {
   "cell_type": "markdown",
   "id": "8e0d140c",
   "metadata": {},
   "source": [
    "19.Which country had the lowest percentage of internet users in 2014? What was the percentage?"
   ]
  },
  {
   "cell_type": "markdown",
   "id": "83e254be",
   "metadata": {},
   "source": [
    "Timor-Leste(1.14%)"
   ]
  },
  {
   "cell_type": "code",
   "execution_count": 21,
   "id": "459117d2",
   "metadata": {},
   "outputs": [
    {
     "name": "stdout",
     "output_type": "stream",
     "text": [
      "                          Country  Year  GDP_Per_Capita  Internet_Users_Pct\n",
      "7079  Dem. People's Rep. of Korea  2014             NaN                0.00\n",
      "7137                      Eritrea  2014             NaN                0.99\n",
      "6219                  Timor-Leste  2014     3264.568070                1.14\n",
      "827                       Burundi  2014      886.235777                1.38\n",
      "7674                      Somalia  2014             NaN                1.63\n"
     ]
    }
   ],
   "source": [
    "low_perc_iu_2014 = gdp_iu_2014.sort_values('Internet_Users_Pct')\n",
    "print(low_perc_iu_2014.head())"
   ]
  },
  {
   "cell_type": "code",
   "execution_count": 22,
   "id": "aa5bc110",
   "metadata": {},
   "outputs": [
    {
     "data": {
      "text/html": [
       "<div>\n",
       "<style scoped>\n",
       "    .dataframe tbody tr th:only-of-type {\n",
       "        vertical-align: middle;\n",
       "    }\n",
       "\n",
       "    .dataframe tbody tr th {\n",
       "        vertical-align: top;\n",
       "    }\n",
       "\n",
       "    .dataframe thead th {\n",
       "        text-align: right;\n",
       "    }\n",
       "</style>\n",
       "<table border=\"1\" class=\"dataframe\">\n",
       "  <thead>\n",
       "    <tr style=\"text-align: right;\">\n",
       "      <th></th>\n",
       "      <th>Country</th>\n",
       "      <th>Year</th>\n",
       "      <th>GDP_Per_Capita</th>\n",
       "      <th>Internet_Users_Pct</th>\n",
       "    </tr>\n",
       "  </thead>\n",
       "  <tbody>\n",
       "    <tr>\n",
       "      <th>7079</th>\n",
       "      <td>Dem. People's Rep. of Korea</td>\n",
       "      <td>2014</td>\n",
       "      <td>NaN</td>\n",
       "      <td>0.0</td>\n",
       "    </tr>\n",
       "  </tbody>\n",
       "</table>\n",
       "</div>"
      ],
      "text/plain": [
       "                          Country  Year  GDP_Per_Capita  Internet_Users_Pct\n",
       "7079  Dem. People's Rep. of Korea  2014             NaN                 0.0"
      ]
     },
     "execution_count": 22,
     "metadata": {},
     "output_type": "execute_result"
    }
   ],
   "source": [
    "low_perc_iu_2014.nsmallest(1, 'Internet_Users_Pct')\n"
   ]
  },
  {
   "cell_type": "markdown",
   "id": "d0de8eb0",
   "metadata": {},
   "source": [
    "20.Repeat for 2004 and 2009."
   ]
  },
  {
   "cell_type": "code",
   "execution_count": 23,
   "id": "7f7042a3",
   "metadata": {},
   "outputs": [],
   "source": [
    "low_perc_iu_2004 = gdp_iu_2004.sort_values('Internet_Users_Pct')\n",
    "low_perc_iu_2009 = gdp_iu_2009.sort_values('Internet_Users_Pct')\n",
    "high_perc_iu_2004 = gdp_iu_2004.sort_values('Internet_Users_Pct')\n",
    "high_perc_iu_2009 = gdp_iu_2009.sort_values('Internet_Users_Pct')"
   ]
  },
  {
   "cell_type": "markdown",
   "id": "6d7b7ec3",
   "metadata": {},
   "source": [
    "21.Which country had the highest gdp per capita in 2014? What was the gdp per capita?"
   ]
  },
  {
   "cell_type": "markdown",
   "id": "b04f82ee",
   "metadata": {},
   "source": [
    "Luxembourg(108760.916030)"
   ]
  },
  {
   "cell_type": "code",
   "execution_count": 24,
   "id": "281ae7db",
   "metadata": {},
   "outputs": [
    {
     "name": "stdout",
     "output_type": "stream",
     "text": [
      "               Country  Year  GDP_Per_Capita  Internet_Users_Pct\n",
      "3721  Macao SAR, China  2014   156514.133850                 NaN\n",
      "3691        Luxembourg  2014   108760.916030               94.67\n",
      "5138             Qatar  2014    95578.416973               91.49\n",
      "5464         Singapore  2014    87808.663157               82.00\n",
      "561            Bermuda  2014    77361.104881               96.80\n"
     ]
    }
   ],
   "source": [
    "high_gdp_2014 = gdp_iu_2014.sort_values('GDP_Per_Capita',ascending=False)\n",
    "print(high_gdp_2014.head())"
   ]
  },
  {
   "cell_type": "markdown",
   "id": "4908b8c0",
   "metadata": {},
   "source": [
    "22.Which country had the lowest gdp per capita in 2014? What was the gdp per capita?"
   ]
  },
  {
   "cell_type": "markdown",
   "id": "a168702b",
   "metadata": {},
   "source": [
    "Central African Republic"
   ]
  },
  {
   "cell_type": "code",
   "execution_count": 44,
   "id": "05b26f85",
   "metadata": {},
   "outputs": [
    {
     "name": "stdout",
     "output_type": "stream",
     "text": [
      "                       Country  Year  GDP_Per_Capita  Internet_Users_Pct\n",
      "1047  Central African Republic  2014      822.610458                 NaN\n",
      "827                    Burundi  2014      886.235777                1.38\n",
      "3781                    Malawi  2014     1027.208496                5.83\n",
      "1422           Dem. Rep. Congo  2014     1029.790785                 NaN\n",
      "4528                     Niger  2014     1127.615541                1.95\n"
     ]
    }
   ],
   "source": [
    "low_gdp_2014 = gdp_iu_2014.sort_values('GDP_Per_Capita')\n",
    "print(low_gdp_2014.head())"
   ]
  },
  {
   "cell_type": "markdown",
   "id": "61784b4f",
   "metadata": {},
   "source": [
    "23.Create some scatterplots:\n",
    "    \n",
    "a. 2004 Percent Using the Internet vs GDP Per Capita\n",
    "\n",
    "b. 2009 Percent Using the Internet vs GDP Per Capita\n",
    "\n",
    "c. 2014 Percent Using the Internet vs GDP Per Capita"
   ]
  },
  {
   "cell_type": "code",
   "execution_count": 26,
   "id": "af6eb5df",
   "metadata": {},
   "outputs": [
    {
     "data": {
      "text/plain": [
       "Text(0.5, 1.0, '2004 Internet vs GDP Per Capita')"
      ]
     },
     "execution_count": 26,
     "metadata": {},
     "output_type": "execute_result"
    },
    {
     "data": {
      "image/png": "[encoded data removed]",
      "text/plain": [
       "<Figure size 432x288 with 1 Axes>"
      ]
     },
     "metadata": {
      "needs_background": "light"
     },
     "output_type": "display_data"
    }
   ],
   "source": [
    "plt.scatter(gdp_iu_2004.Internet_Users_Pct,gdp_iu_2004.GDP_Per_Capita)\n",
    "plt.xlabel('Internet_Use_Pct')\n",
    "plt.ylabel('GPD_Per_Capit')\n",
    "plt.title('2004 Internet vs GDP Per Capita')"
   ]
  },
  {
   "cell_type": "code",
   "execution_count": 27,
   "id": "c48dbd35",
   "metadata": {},
   "outputs": [
    {
     "data": {
      "text/plain": [
       "Text(0.5, 1.0, '2009 Internet vs GDP Per Capita')"
      ]
     },
     "execution_count": 27,
     "metadata": {},
     "output_type": "execute_result"
    },
    {
     "data": {
      "image/png": "[encoded data removed]",
      "text/plain": [
       "<Figure size 432x288 with 1 Axes>"
      ]
     },
     "metadata": {
      "needs_background": "light"
     },
     "output_type": "display_data"
    }
   ],
   "source": [
    "plt.scatter(gdp_iu_2009.Internet_Users_Pct,gdp_iu_2009.GDP_Per_Capita)\n",
    "plt.xlabel('Internet_Use_Pct')\n",
    "plt.ylabel('GPD_Per_Capit')\n",
    "plt.title('2009 Internet vs GDP Per Capita')"
   ]
  },
  {
   "cell_type": "code",
   "execution_count": 28,
   "id": "20270548",
   "metadata": {},
   "outputs": [
    {
     "data": {
      "text/plain": [
       "Text(0.5, 1.0, '20014 Internet vs GDP Per Capita')"
      ]
     },
     "execution_count": 28,
     "metadata": {},
     "output_type": "execute_result"
    },
    {
     "data": {
      "image/png": "[encoded data removed]",
      "text/plain": [
       "<Figure size 432x288 with 1 Axes>"
      ]
     },
     "metadata": {
      "needs_background": "light"
     },
     "output_type": "display_data"
    }
   ],
   "source": [
    "plt.scatter(gdp_iu_2014.Internet_Users_Pct,gdp_iu_2014.GDP_Per_Capita)\n",
    "plt.xlabel('Internet_Use_Pct')\n",
    "plt.ylabel('GPD_Per_Capit')\n",
    "plt.title('20014 Internet vs GDP Per Capita')"
   ]
  },
  {
   "cell_type": "markdown",
   "id": "0aa197f7",
   "metadata": {},
   "source": [
    "24.Are there differences across years? \n",
    "\n",
    "What do the plots tell you about any relationship between these two variables? Enter your observations as a markdown cell."
   ]
  },
  {
   "cell_type": "markdown",
   "id": "267423f4",
   "metadata": {},
   "source": [
    "1. Generally, as internet use increases, gdp per capita also increases\n",
    "2. As the years increase, there is a more direct coorleation between gdp and internet use\n",
    "3. In 2014, it appears that after a nation passes 50% internet use, gpd begin to increase at a greater rate."
   ]
  },
  {
   "cell_type": "markdown",
   "id": "88821ce8",
   "metadata": {},
   "source": [
    "25.Look at the distribution of gdp per capita values for 2014. Is it unimodal?"
   ]
  },
  {
   "cell_type": "markdown",
   "id": "12a3cedc",
   "metadata": {},
   "source": [
    "Yes it is unimodal"
   ]
  },
  {
   "cell_type": "code",
   "execution_count": 29,
   "id": "fb875fa3",
   "metadata": {
    "scrolled": true
   },
   "outputs": [
    {
     "data": {
      "text/plain": [
       "(array([146.,  41.,  25.,  18.,   4.,   1.,   2.,   0.,   0.,   1.]),\n",
       " array([   822.61045782,  16391.76279701,  31960.91513621,  47530.06747541,\n",
       "         63099.2198146 ,  78668.3721538 ,  94237.524493  , 109806.67683219,\n",
       "        125375.82917139, 140944.98151059, 156514.13384978]),\n",
       " <BarContainer object of 10 artists>)"
      ]
     },
     "execution_count": 29,
     "metadata": {},
     "output_type": "execute_result"
    },
    {
     "data": {
      "image/png": "[encoded data removed]",
      "text/plain": [
       "<Figure size 432x288 with 1 Axes>"
      ]
     },
     "metadata": {
      "needs_background": "light"
     },
     "output_type": "display_data"
    }
   ],
   "source": [
    "plt.hist(gdp_iu_2014.GDP_Per_Capita)"
   ]
  },
  {
   "cell_type": "markdown",
   "id": "763969b7",
   "metadata": {},
   "source": [
    "adding semicolon at the end of the histogram is called subression and will stop the output from displaying"
   ]
  },
  {
   "cell_type": "code",
   "execution_count": 45,
   "id": "a9b0f1d2",
   "metadata": {},
   "outputs": [
    {
     "data": {
      "image/png": "[encoded data removed]",
      "text/plain": [
       "<Figure size 432x288 with 1 Axes>"
      ]
     },
     "metadata": {
      "needs_background": "light"
     },
     "output_type": "display_data"
    }
   ],
   "source": [
    "plt.hist(gdp_iu_2014.GDP_Per_Capita);"
   ]
  },
  {
   "cell_type": "markdown",
   "id": "9e8a8ae3",
   "metadata": {},
   "source": [
    "26.Look at the distribution of Internet Use for 2014. Is it unimodal?"
   ]
  },
  {
   "cell_type": "markdown",
   "id": "a4b67c7f",
   "metadata": {},
   "source": [
    "No, it is not unimodal"
   ]
  },
  {
   "cell_type": "code",
   "execution_count": 30,
   "id": "eebeeb79",
   "metadata": {},
   "outputs": [
    {
     "data": {
      "text/plain": [
       "(array([31., 31., 12., 10., 24., 18., 21., 20., 18., 17.]),\n",
       " array([ 0.   ,  9.816, 19.632, 29.448, 39.264, 49.08 , 58.896, 68.712,\n",
       "        78.528, 88.344, 98.16 ]),\n",
       " <BarContainer object of 10 artists>)"
      ]
     },
     "execution_count": 30,
     "metadata": {},
     "output_type": "execute_result"
    },
    {
     "data": {
      "image/png": "[encoded data removed]",
      "text/plain": [
       "<Figure size 432x288 with 1 Axes>"
      ]
     },
     "metadata": {
      "needs_background": "light"
     },
     "output_type": "display_data"
    }
   ],
   "source": [
    "plt.hist(gdp_iu_2014.Internet_Users_Pct)"
   ]
  },
  {
   "cell_type": "markdown",
   "id": "ce158a70",
   "metadata": {},
   "source": [
    "27.What are the top 5 countries in terms of internet use in 2014?"
   ]
  },
  {
   "cell_type": "code",
   "execution_count": 50,
   "id": "b50f3a59",
   "metadata": {},
   "outputs": [
    {
     "name": "stdout",
     "output_type": "stream",
     "text": [
      "      Country  Year  GDP_Per_Capita  Internet_Users_Pct\n",
      "2625  Iceland  2014    49652.149500               98.16\n",
      "561   Bermuda  2014    77361.104881               96.80\n",
      "4648   Norway  2014    62589.373548               96.30\n",
      "1452  Denmark  2014    52214.537753               95.99\n",
      "6871  Andorra  2014             NaN               95.90\n"
     ]
    }
   ],
   "source": [
    "top_5_countries_2014 = gdp_iu_2014.sort_values('Internet_Users_Pct',ascending = False)\\\n",
    "            .head()\n",
    "                                   \n",
    "print(top_5_countries_2014)"
   ]
  },
  {
   "cell_type": "code",
   "execution_count": 51,
   "id": "7fa67339",
   "metadata": {},
   "outputs": [
    {
     "name": "stdout",
     "output_type": "stream",
     "text": [
      "                          Country  Year  GDP_Per_Capita  Internet_Users_Pct\n",
      "7079  Dem. People's Rep. of Korea  2014             NaN                0.00\n",
      "7137                      Eritrea  2014             NaN                0.99\n",
      "6219                  Timor-Leste  2014     3264.568070                1.14\n",
      "827                       Burundi  2014      886.235777                1.38\n",
      "7674                      Somalia  2014             NaN                1.63\n"
     ]
    }
   ],
   "source": [
    "bottom_5_countries_2014 = gdp_iu_2014.sort_values('Internet_Users_Pct')\\\n",
    "            .head()       \n",
    "print(bottom_5_countries_2014)"
   ]
  },
  {
   "cell_type": "markdown",
   "id": "6f3e54ba",
   "metadata": {},
   "source": [
    "28.Create a DataFrame called top_5_internet from the combined DataFrame that has all three years for the 5 countries that had the greatest 2014 internet usage. \n",
    "\n",
    "You should have 15 rows. Check that this is true."
   ]
  },
  {
   "cell_type": "code",
   "execution_count": 55,
   "id": "cffef806",
   "metadata": {},
   "outputs": [
    {
     "name": "stdout",
     "output_type": "stream",
     "text": [
      "    Country  Year  GDP_Per_Capita  Internet_Users_Pct\n",
      "0   Iceland  2014    49652.149500           98.160000\n",
      "1   Iceland  2009    48177.084123           93.000000\n",
      "2   Iceland  2004    45145.545658           83.880000\n",
      "3   Bermuda  2014    77361.104881           96.800000\n",
      "4   Bermuda  2009    89961.982744           83.250000\n",
      "5   Bermuda  2004    90195.811033           60.990867\n",
      "6    Norway  2014    62589.373548           96.300000\n",
      "7    Norway  2009    61886.564498           92.080000\n",
      "8    Norway  2004    60893.410993           77.690000\n",
      "9   Denmark  2014    52214.537753           95.990000\n",
      "10  Denmark  2009    50274.075696           86.840000\n",
      "11  Denmark  2004    50607.628971           80.930000\n",
      "12  Andorra  2014             NaN           95.900000\n",
      "13  Andorra  2009             NaN           78.530000\n",
      "14  Andorra  2004             NaN           26.837954\n"
     ]
    }
   ],
   "source": [
    "top_5_internet = top_5_countries_2014.merge(gdp_iu_sub,'inner','Country')\\\n",
    "                .drop(columns=['Year_x','GDP_Per_Capita_x','Internet_Users_Pct_x'])\\\n",
    "                .rename(columns = {'Year_y':'Year','GDP_Per_Capita_y':'GDP_Per_Capita','Internet_Users_Pct_y':'Internet_Users_Pct'})\n",
    "print(top_5_internet)"
   ]
  },
  {
   "cell_type": "code",
   "execution_count": 53,
   "id": "1ec788da",
   "metadata": {},
   "outputs": [
    {
     "name": "stdout",
     "output_type": "stream",
     "text": [
      "                        Country  Year  GDP_Per_Capita  Internet_Users_Pct\n",
      "0   Dem. People's Rep. of Korea  2014             NaN            0.000000\n",
      "1   Dem. People's Rep. of Korea  2009             NaN            0.000000\n",
      "2   Dem. People's Rep. of Korea  2004             NaN            0.000000\n",
      "3                       Eritrea  2014             NaN            0.990000\n",
      "4                       Eritrea  2009             NaN            0.540000\n",
      "5                   Timor-Leste  2014     3264.568070            1.140000\n",
      "6                   Timor-Leste  2009     2724.770973            0.185252\n",
      "7                   Timor-Leste  2004     2258.608056                 NaN\n",
      "8                       Burundi  2014      886.235777            1.380000\n",
      "9                       Burundi  2009      831.564131            0.900000\n",
      "10                      Burundi  2004      817.460585            0.349060\n",
      "11                      Somalia  2014             NaN            1.630000\n",
      "12                      Somalia  2009             NaN            1.160611\n",
      "13                      Somalia  2004             NaN            1.053455\n"
     ]
    }
   ],
   "source": [
    "bottom_5_internet = bottom_5_countries_2014.merge(gdp_iu_sub,'inner','Country')\\\n",
    "                .drop(columns=['Year_x','GDP_Per_Capita_x','Internet_Users_Pct_x'])\\\n",
    "                .rename(columns = {'Year_y':'Year','GDP_Per_Capita_y':'GDP_Per_Capita','Internet_Users_Pct_y':'Internet_Users_Pct'})\n",
    "print(bottom_5_internet)"
   ]
  },
  {
   "cell_type": "markdown",
   "id": "6d257fb5",
   "metadata": {},
   "source": [
    "29.Create a seaborn FacetGrid to show the internet usage trend across the years 2004, 2009, and 2014 for these 5 countries (those with the highest reported internet use in 2014). \n",
    "Which country had the greatest growth between 2004 and 2014?"
   ]
  },
  {
   "cell_type": "markdown",
   "id": "2eb1874e",
   "metadata": {},
   "source": [
    "Bermuda"
   ]
  },
  {
   "cell_type": "code",
   "execution_count": 35,
   "id": "7f374950",
   "metadata": {},
   "outputs": [
    {
     "data": {
      "text/plain": [
       "<seaborn.axisgrid.FacetGrid at 0x205cd9221c0>"
      ]
     },
     "execution_count": 35,
     "metadata": {},
     "output_type": "execute_result"
    },
    {
     "data": {
      "image/png": "[encoded data removed]",
      "text/plain": [
       "<Figure size 2520x504 with 5 Axes>"
      ]
     },
     "metadata": {
      "needs_background": "light"
     },
     "output_type": "display_data"
    }
   ],
   "source": [
    "high_iu_trend = sns.FacetGrid(top_5_internet,col='Country',height = 7)\n",
    "high_iu_trend.map(plt.plot,'Year','Internet_Users_Pct')"
   ]
  },
  {
   "cell_type": "markdown",
   "id": "3023fea5",
   "metadata": {},
   "source": [
    "30.Repeat the steps above to look at the trend for the 5 countries with the lowest 2014 internet usage. Which country has consistently had the least internet use?"
   ]
  },
  {
   "cell_type": "markdown",
   "id": "50539d40",
   "metadata": {},
   "source": [
    "Timor Leste"
   ]
  },
  {
   "cell_type": "code",
   "execution_count": 36,
   "id": "ecd672be",
   "metadata": {},
   "outputs": [
    {
     "data": {
      "text/plain": [
       "<seaborn.axisgrid.FacetGrid at 0x205cdfb6af0>"
      ]
     },
     "execution_count": 36,
     "metadata": {},
     "output_type": "execute_result"
    },
    {
     "data": {
      "image/png": "[encoded data removed]",
      "text/plain": [
       "<Figure size 2520x504 with 5 Axes>"
      ]
     },
     "metadata": {
      "needs_background": "light"
     },
     "output_type": "display_data"
    }
   ],
   "source": [
    "low_iu_trend = sns.FacetGrid(bottom_5_internet,col='Country',height = 7)\n",
    "low_iu_trend.map(plt.plot,'Year','Internet_Users_Pct')"
   ]
  },
  {
   "cell_type": "markdown",
   "id": "dfc65749",
   "metadata": {},
   "source": [
    "31.Find the top 5 countries for 2014 in terms of GDP per capita; create a DataFrame to look at 10-year trends (use 2004, 2009, 2014 to look at the 10-year trend) in gdp per capita for the 5 countries with the highest 2014 GDP per capita. Use a seaborn facet grid for this."
   ]
  },
  {
   "cell_type": "code",
   "execution_count": 37,
   "id": "78ea1e63",
   "metadata": {},
   "outputs": [
    {
     "data": {
      "text/plain": [
       "<seaborn.axisgrid.FacetGrid at 0x205cdf8f4c0>"
      ]
     },
     "execution_count": 37,
     "metadata": {},
     "output_type": "execute_result"
    },
    {
     "data": {
      "image/png": "[encoded data removed]",
      "text/plain": [
       "<Figure size 3600x720 with 5 Axes>"
      ]
     },
     "metadata": {
      "needs_background": "light"
     },
     "output_type": "display_data"
    }
   ],
   "source": [
    "top_5_GDP_2014 = gdp_iu_2014.sort_values('GDP_Per_Capita',ascending = False)\\\n",
    "            .head()\n",
    "top_5_GDP = top_5_GDP_2014.merge(gdp_iu_sub,'inner','Country')\\\n",
    "                .drop(columns=['Year_x','GDP_Per_Capita_x','Internet_Users_Pct_x'])\\\n",
    "                .rename(columns={'Year_y':'Year','GDP_Per_Capita_y':'GDP_Per_Capita','Internet_Users_Pct_y':'Internet_Users_Pct'})\n",
    "high_GDP_trend = sns.FacetGrid(top_5_GDP,col='Country',height = 10)\n",
    "high_GDP_trend.map(plt.plot,'Year','GDP_Per_Capita')"
   ]
  },
  {
   "cell_type": "markdown",
   "id": "cc265b00",
   "metadata": {},
   "source": [
    "32.Repeat this one more time to look at 10-year trend for the 5 countries for 2014 with the lowest GDP per capita."
   ]
  },
  {
   "cell_type": "code",
   "execution_count": 38,
   "id": "b68e6ab9",
   "metadata": {},
   "outputs": [
    {
     "data": {
      "text/plain": [
       "<seaborn.axisgrid.FacetGrid at 0x205cea8b520>"
      ]
     },
     "execution_count": 38,
     "metadata": {},
     "output_type": "execute_result"
    },
    {
     "data": {
      "image/png": "[encoded data removed]",
      "text/plain": [
       "<Figure size 3600x720 with 5 Axes>"
      ]
     },
     "metadata": {
      "needs_background": "light"
     },
     "output_type": "display_data"
    }
   ],
   "source": [
    "bottom_5_GDP_2014 = gdp_iu_2014.sort_values('GDP_Per_Capita')\\\n",
    "            .head()\n",
    "bottom_5_GDP = bottom_5_GDP_2014.merge(gdp_iu_sub,'inner','Country')\\\n",
    "                .drop(columns=['Year_x','GDP_Per_Capita_x','Internet_Users_Pct_x'])\\\n",
    "                .rename(columns={'Year_y':'Year','GDP_Per_Capita_y':'GDP_Per_Capita','Internet_Users_Pct_y':'Internet_Users_Pct'})\n",
    "low_GDP_trend = sns.FacetGrid(bottom_5_GDP,col='Country',height = 10)\n",
    "low_GDP_trend.map(plt.plot,'Year','GDP_Per_Capita')"
   ]
  },
  {
   "cell_type": "markdown",
   "id": "03c49362",
   "metadata": {},
   "source": [
    "33.Is there anything surprising or unusual in any of these plots? Searching on the internet, can you find any possible explanations for unusual findings?"
   ]
  },
  {
   "cell_type": "markdown",
   "id": "7fd1dc99",
   "metadata": {},
   "source": [
    "The central african republic GDP took a severe downturn in 2008. This could be due to a number of factors, including the 2008 recession and the overall instabillity of CAR."
   ]
  },
  {
   "cell_type": "markdown",
   "id": "6484d4f3",
   "metadata": {},
   "source": [
    "Bonus exercise:\n",
    "Download another data set from the UN data (http://data.un.org/Explorer.aspx) to merge with your data and explore."
   ]
  },
  {
   "cell_type": "code",
   "execution_count": 39,
   "id": "2eb02f19",
   "metadata": {},
   "outputs": [],
   "source": [
    "co2_df = pd.read_csv('../data/Co2_emissions.csv')"
   ]
  },
  {
   "cell_type": "code",
   "execution_count": 40,
   "id": "29185da5",
   "metadata": {},
   "outputs": [],
   "source": [
    "co2_df = co2_df.rename(columns ={'Country or Area':'Country','Value':'Emissions'})"
   ]
  },
  {
   "cell_type": "code",
   "execution_count": 41,
   "id": "7c4b5289",
   "metadata": {},
   "outputs": [],
   "source": [
    "gdp_co2_comb = gdp_and_internet_use.merge(co2_df,'inner',['Country','Year'])"
   ]
  },
  {
   "cell_type": "code",
   "execution_count": 42,
   "id": "8b9f3110",
   "metadata": {},
   "outputs": [
    {
     "data": {
      "text/html": [
       "<div>\n",
       "<style scoped>\n",
       "    .dataframe tbody tr th:only-of-type {\n",
       "        vertical-align: middle;\n",
       "    }\n",
       "\n",
       "    .dataframe tbody tr th {\n",
       "        vertical-align: top;\n",
       "    }\n",
       "\n",
       "    .dataframe thead th {\n",
       "        text-align: right;\n",
       "    }\n",
       "</style>\n",
       "<table border=\"1\" class=\"dataframe\">\n",
       "  <thead>\n",
       "    <tr style=\"text-align: right;\">\n",
       "      <th></th>\n",
       "      <th>Country</th>\n",
       "      <th>Year</th>\n",
       "      <th>GDP_Per_Capita</th>\n",
       "      <th>Internet_Users_Pct</th>\n",
       "      <th>Emissions</th>\n",
       "    </tr>\n",
       "  </thead>\n",
       "  <tbody>\n",
       "    <tr>\n",
       "      <th>286</th>\n",
       "      <td>European Union</td>\n",
       "      <td>2014</td>\n",
       "      <td>39988.385840</td>\n",
       "      <td>NaN</td>\n",
       "      <td>3.480937e+06</td>\n",
       "    </tr>\n",
       "    <tr>\n",
       "      <th>546</th>\n",
       "      <td>Japan</td>\n",
       "      <td>2014</td>\n",
       "      <td>39376.884505</td>\n",
       "      <td>90.58</td>\n",
       "      <td>1.263050e+06</td>\n",
       "    </tr>\n",
       "    <tr>\n",
       "      <th>373</th>\n",
       "      <td>Germany</td>\n",
       "      <td>2014</td>\n",
       "      <td>50932.756778</td>\n",
       "      <td>86.19</td>\n",
       "      <td>7.926849e+05</td>\n",
       "    </tr>\n",
       "    <tr>\n",
       "      <th>149</th>\n",
       "      <td>Canada</td>\n",
       "      <td>2014</td>\n",
       "      <td>47672.076449</td>\n",
       "      <td>87.12</td>\n",
       "      <td>5.759422e+05</td>\n",
       "    </tr>\n",
       "    <tr>\n",
       "      <th>1029</th>\n",
       "      <td>United Kingdom</td>\n",
       "      <td>2014</td>\n",
       "      <td>44209.510472</td>\n",
       "      <td>91.61</td>\n",
       "      <td>4.397633e+05</td>\n",
       "    </tr>\n",
       "    <tr>\n",
       "      <th>4</th>\n",
       "      <td>Australia</td>\n",
       "      <td>2014</td>\n",
       "      <td>47436.748390</td>\n",
       "      <td>84.56</td>\n",
       "      <td>3.941169e+05</td>\n",
       "    </tr>\n",
       "    <tr>\n",
       "      <th>971</th>\n",
       "      <td>Turkey</td>\n",
       "      <td>2014</td>\n",
       "      <td>24960.320597</td>\n",
       "      <td>51.04</td>\n",
       "      <td>3.616755e+05</td>\n",
       "    </tr>\n",
       "    <tr>\n",
       "      <th>517</th>\n",
       "      <td>Italy</td>\n",
       "      <td>2014</td>\n",
       "      <td>40025.932730</td>\n",
       "      <td>61.96</td>\n",
       "      <td>3.478608e+05</td>\n",
       "    </tr>\n",
       "    <tr>\n",
       "      <th>344</th>\n",
       "      <td>France</td>\n",
       "      <td>2014</td>\n",
       "      <td>43158.810773</td>\n",
       "      <td>83.75</td>\n",
       "      <td>3.394929e+05</td>\n",
       "    </tr>\n",
       "    <tr>\n",
       "      <th>768</th>\n",
       "      <td>Poland</td>\n",
       "      <td>2014</td>\n",
       "      <td>26734.664758</td>\n",
       "      <td>66.60</td>\n",
       "      <td>3.099209e+05</td>\n",
       "    </tr>\n",
       "    <tr>\n",
       "      <th>1000</th>\n",
       "      <td>Ukraine</td>\n",
       "      <td>2014</td>\n",
       "      <td>12408.951598</td>\n",
       "      <td>43.40</td>\n",
       "      <td>2.575847e+05</td>\n",
       "    </tr>\n",
       "    <tr>\n",
       "      <th>884</th>\n",
       "      <td>Spain</td>\n",
       "      <td>2014</td>\n",
       "      <td>36083.476099</td>\n",
       "      <td>76.19</td>\n",
       "      <td>2.551002e+05</td>\n",
       "    </tr>\n",
       "    <tr>\n",
       "      <th>681</th>\n",
       "      <td>Netherlands</td>\n",
       "      <td>2014</td>\n",
       "      <td>52353.666990</td>\n",
       "      <td>93.17</td>\n",
       "      <td>1.587680e+05</td>\n",
       "    </tr>\n",
       "    <tr>\n",
       "      <th>91</th>\n",
       "      <td>Belgium</td>\n",
       "      <td>2014</td>\n",
       "      <td>48903.340742</td>\n",
       "      <td>85.00</td>\n",
       "      <td>9.681132e+04</td>\n",
       "    </tr>\n",
       "    <tr>\n",
       "      <th>402</th>\n",
       "      <td>Greece</td>\n",
       "      <td>2014</td>\n",
       "      <td>28615.837733</td>\n",
       "      <td>63.21</td>\n",
       "      <td>7.865980e+04</td>\n",
       "    </tr>\n",
       "    <tr>\n",
       "      <th>826</th>\n",
       "      <td>Romania</td>\n",
       "      <td>2014</td>\n",
       "      <td>23158.048677</td>\n",
       "      <td>54.08</td>\n",
       "      <td>7.743242e+04</td>\n",
       "    </tr>\n",
       "    <tr>\n",
       "      <th>33</th>\n",
       "      <td>Austria</td>\n",
       "      <td>2014</td>\n",
       "      <td>53025.847608</td>\n",
       "      <td>81.00</td>\n",
       "      <td>6.408443e+04</td>\n",
       "    </tr>\n",
       "    <tr>\n",
       "      <th>62</th>\n",
       "      <td>Belarus</td>\n",
       "      <td>2014</td>\n",
       "      <td>19066.886819</td>\n",
       "      <td>59.02</td>\n",
       "      <td>6.308364e+04</td>\n",
       "    </tr>\n",
       "    <tr>\n",
       "      <th>797</th>\n",
       "      <td>Portugal</td>\n",
       "      <td>2014</td>\n",
       "      <td>30541.792885</td>\n",
       "      <td>64.59</td>\n",
       "      <td>4.794844e+04</td>\n",
       "    </tr>\n",
       "    <tr>\n",
       "      <th>315</th>\n",
       "      <td>Finland</td>\n",
       "      <td>2014</td>\n",
       "      <td>45013.100455</td>\n",
       "      <td>92.38</td>\n",
       "      <td>4.764386e+04</td>\n",
       "    </tr>\n",
       "    <tr>\n",
       "      <th>120</th>\n",
       "      <td>Bulgaria</td>\n",
       "      <td>2014</td>\n",
       "      <td>18807.228779</td>\n",
       "      <td>55.49</td>\n",
       "      <td>4.516933e+04</td>\n",
       "    </tr>\n",
       "    <tr>\n",
       "      <th>739</th>\n",
       "      <td>Norway</td>\n",
       "      <td>2014</td>\n",
       "      <td>62589.373548</td>\n",
       "      <td>96.30</td>\n",
       "      <td>4.491661e+04</td>\n",
       "    </tr>\n",
       "    <tr>\n",
       "      <th>431</th>\n",
       "      <td>Hungary</td>\n",
       "      <td>2014</td>\n",
       "      <td>26509.099990</td>\n",
       "      <td>76.13</td>\n",
       "      <td>4.386271e+04</td>\n",
       "    </tr>\n",
       "    <tr>\n",
       "      <th>913</th>\n",
       "      <td>Sweden</td>\n",
       "      <td>2014</td>\n",
       "      <td>49416.289877</td>\n",
       "      <td>92.52</td>\n",
       "      <td>4.333756e+04</td>\n",
       "    </tr>\n",
       "    <tr>\n",
       "      <th>942</th>\n",
       "      <td>Switzerland</td>\n",
       "      <td>2014</td>\n",
       "      <td>65813.952509</td>\n",
       "      <td>87.00</td>\n",
       "      <td>3.923443e+04</td>\n",
       "    </tr>\n",
       "    <tr>\n",
       "      <th>231</th>\n",
       "      <td>Denmark</td>\n",
       "      <td>2014</td>\n",
       "      <td>52214.537753</td>\n",
       "      <td>95.99</td>\n",
       "      <td>3.886673e+04</td>\n",
       "    </tr>\n",
       "    <tr>\n",
       "      <th>488</th>\n",
       "      <td>Ireland</td>\n",
       "      <td>2014</td>\n",
       "      <td>57404.704480</td>\n",
       "      <td>79.69</td>\n",
       "      <td>3.678533e+04</td>\n",
       "    </tr>\n",
       "    <tr>\n",
       "      <th>710</th>\n",
       "      <td>New Zealand</td>\n",
       "      <td>2014</td>\n",
       "      <td>40487.030850</td>\n",
       "      <td>85.50</td>\n",
       "      <td>3.545780e+04</td>\n",
       "    </tr>\n",
       "    <tr>\n",
       "      <th>260</th>\n",
       "      <td>Estonia</td>\n",
       "      <td>2014</td>\n",
       "      <td>30700.336926</td>\n",
       "      <td>84.24</td>\n",
       "      <td>1.875595e+04</td>\n",
       "    </tr>\n",
       "    <tr>\n",
       "      <th>178</th>\n",
       "      <td>Croatia</td>\n",
       "      <td>2014</td>\n",
       "      <td>23858.410399</td>\n",
       "      <td>68.57</td>\n",
       "      <td>1.770499e+04</td>\n",
       "    </tr>\n",
       "    <tr>\n",
       "      <th>855</th>\n",
       "      <td>Slovenia</td>\n",
       "      <td>2014</td>\n",
       "      <td>33204.588693</td>\n",
       "      <td>71.59</td>\n",
       "      <td>1.353194e+04</td>\n",
       "    </tr>\n",
       "    <tr>\n",
       "      <th>599</th>\n",
       "      <td>Lithuania</td>\n",
       "      <td>2014</td>\n",
       "      <td>29951.221857</td>\n",
       "      <td>72.13</td>\n",
       "      <td>1.308747e+04</td>\n",
       "    </tr>\n",
       "    <tr>\n",
       "      <th>623</th>\n",
       "      <td>Luxembourg</td>\n",
       "      <td>2014</td>\n",
       "      <td>108760.916030</td>\n",
       "      <td>94.67</td>\n",
       "      <td>9.825216e+03</td>\n",
       "    </tr>\n",
       "    <tr>\n",
       "      <th>575</th>\n",
       "      <td>Latvia</td>\n",
       "      <td>2014</td>\n",
       "      <td>25468.057690</td>\n",
       "      <td>75.83</td>\n",
       "      <td>7.182634e+03</td>\n",
       "    </tr>\n",
       "    <tr>\n",
       "      <th>202</th>\n",
       "      <td>Cyprus</td>\n",
       "      <td>2014</td>\n",
       "      <td>33064.580170</td>\n",
       "      <td>69.33</td>\n",
       "      <td>6.934592e+03</td>\n",
       "    </tr>\n",
       "    <tr>\n",
       "      <th>459</th>\n",
       "      <td>Iceland</td>\n",
       "      <td>2014</td>\n",
       "      <td>49652.149500</td>\n",
       "      <td>98.16</td>\n",
       "      <td>3.469682e+03</td>\n",
       "    </tr>\n",
       "    <tr>\n",
       "      <th>652</th>\n",
       "      <td>Malta</td>\n",
       "      <td>2014</td>\n",
       "      <td>37246.552101</td>\n",
       "      <td>73.17</td>\n",
       "      <td>2.442396e+03</td>\n",
       "    </tr>\n",
       "    <tr>\n",
       "      <th>1061</th>\n",
       "      <td>Liechtenstein</td>\n",
       "      <td>2014</td>\n",
       "      <td>NaN</td>\n",
       "      <td>95.21</td>\n",
       "      <td>1.612387e+02</td>\n",
       "    </tr>\n",
       "    <tr>\n",
       "      <th>1078</th>\n",
       "      <td>Monaco</td>\n",
       "      <td>2014</td>\n",
       "      <td>NaN</td>\n",
       "      <td>92.40</td>\n",
       "      <td>7.388640e+01</td>\n",
       "    </tr>\n",
       "  </tbody>\n",
       "</table>\n",
       "</div>"
      ],
      "text/plain": [
       "             Country  Year  GDP_Per_Capita  Internet_Users_Pct     Emissions\n",
       "286   European Union  2014    39988.385840                 NaN  3.480937e+06\n",
       "546            Japan  2014    39376.884505               90.58  1.263050e+06\n",
       "373          Germany  2014    50932.756778               86.19  7.926849e+05\n",
       "149           Canada  2014    47672.076449               87.12  5.759422e+05\n",
       "1029  United Kingdom  2014    44209.510472               91.61  4.397633e+05\n",
       "4          Australia  2014    47436.748390               84.56  3.941169e+05\n",
       "971           Turkey  2014    24960.320597               51.04  3.616755e+05\n",
       "517            Italy  2014    40025.932730               61.96  3.478608e+05\n",
       "344           France  2014    43158.810773               83.75  3.394929e+05\n",
       "768           Poland  2014    26734.664758               66.60  3.099209e+05\n",
       "1000         Ukraine  2014    12408.951598               43.40  2.575847e+05\n",
       "884            Spain  2014    36083.476099               76.19  2.551002e+05\n",
       "681      Netherlands  2014    52353.666990               93.17  1.587680e+05\n",
       "91           Belgium  2014    48903.340742               85.00  9.681132e+04\n",
       "402           Greece  2014    28615.837733               63.21  7.865980e+04\n",
       "826          Romania  2014    23158.048677               54.08  7.743242e+04\n",
       "33           Austria  2014    53025.847608               81.00  6.408443e+04\n",
       "62           Belarus  2014    19066.886819               59.02  6.308364e+04\n",
       "797         Portugal  2014    30541.792885               64.59  4.794844e+04\n",
       "315          Finland  2014    45013.100455               92.38  4.764386e+04\n",
       "120         Bulgaria  2014    18807.228779               55.49  4.516933e+04\n",
       "739           Norway  2014    62589.373548               96.30  4.491661e+04\n",
       "431          Hungary  2014    26509.099990               76.13  4.386271e+04\n",
       "913           Sweden  2014    49416.289877               92.52  4.333756e+04\n",
       "942      Switzerland  2014    65813.952509               87.00  3.923443e+04\n",
       "231          Denmark  2014    52214.537753               95.99  3.886673e+04\n",
       "488          Ireland  2014    57404.704480               79.69  3.678533e+04\n",
       "710      New Zealand  2014    40487.030850               85.50  3.545780e+04\n",
       "260          Estonia  2014    30700.336926               84.24  1.875595e+04\n",
       "178          Croatia  2014    23858.410399               68.57  1.770499e+04\n",
       "855         Slovenia  2014    33204.588693               71.59  1.353194e+04\n",
       "599        Lithuania  2014    29951.221857               72.13  1.308747e+04\n",
       "623       Luxembourg  2014   108760.916030               94.67  9.825216e+03\n",
       "575           Latvia  2014    25468.057690               75.83  7.182634e+03\n",
       "202           Cyprus  2014    33064.580170               69.33  6.934592e+03\n",
       "459          Iceland  2014    49652.149500               98.16  3.469682e+03\n",
       "652            Malta  2014    37246.552101               73.17  2.442396e+03\n",
       "1061   Liechtenstein  2014             NaN               95.21  1.612387e+02\n",
       "1078          Monaco  2014             NaN               92.40  7.388640e+01"
      ]
     },
     "execution_count": 42,
     "metadata": {},
     "output_type": "execute_result"
    }
   ],
   "source": [
    "gdp_co2_comb_2014 = gdp_co2_comb[gdp_co2_comb.Year == (2014)]\n",
    "gdp_co2_comb_2014.sort_values('Emissions',ascending = False)"
   ]
  },
  {
   "cell_type": "code",
   "execution_count": 43,
   "id": "4c6a0fd3",
   "metadata": {},
   "outputs": [
    {
     "data": {
      "text/plain": [
       "<matplotlib.collections.PathCollection at 0x205d1ac6a00>"
      ]
     },
     "execution_count": 43,
     "metadata": {},
     "output_type": "execute_result"
    },
    {
     "data": {
      "image/png": "[encoded data removed]",
      "text/plain": [
       "<Figure size 432x288 with 1 Axes>"
      ]
     },
     "metadata": {
      "needs_background": "light"
     },
     "output_type": "display_data"
    }
   ],
   "source": [
    "plt.scatter(gdp_co2_comb_2014.GDP_Per_Capita,gdp_co2_comb_2014.Emissions)"
   ]
  }
 ],
 "metadata": {
  "kernelspec": {
   "display_name": "Python 3",
   "language": "python",
   "name": "python3"
  },
  "language_info": {
   "codemirror_mode": {
    "name": "ipython",
    "version": 3
   },
   "file_extension": ".py",
   "mimetype": "text/x-python",
   "name": "python",
   "nbconvert_exporter": "python",
   "pygments_lexer": "ipython3",
   "version": "3.8.8"
  }
 },
 "nbformat": 4,
 "nbformat_minor": 5
}
